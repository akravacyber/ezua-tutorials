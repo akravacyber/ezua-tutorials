{
 "cells": [
  {
   "cell_type": "markdown",
   "id": "f891729d-9030-4d9e-a7be-e81386ae820f",
   "metadata": {
    "tags": []
   },
   "source": [
    "# Creating a Large Language Model Inference Service\n",
    "\n",
    "Welcome to the fourth part of our tutorial series on building a question-answering application over a corpus of private documents using Large Language Models (LLMs). In the previous Notebooks, we journeyed through the processes of creating vector embeddings of our documents, setting up a Vector Store Inference Service, and testing its performance.\n",
    "\n",
    "<figure>\n",
    "  <img src=\"images/llm.jpg\" alt=\"llm\" style=\"width:100%\">\n",
    "  <figcaption>\n",
    "      Photo by <a href=\"https://unsplash.com/@deepmind?utm_source=unsplash&utm_medium=referral&utm_content=creditCopyText\">Google DeepMind</a> on <a href=\"https://unsplash.com/photos/LaKwLAmcnBc?utm_source=unsplash&utm_medium=referral&utm_content=creditCopyText\">Unsplash</a>\n",
    "  </figcaption>\n",
    "</figure>\n",
    "\n",
    "Now, we're moving towards the next crucial step: creating an Inference Service for the Large Language Model (LLM). This Inference Service will be the centerpiece of our question-answering system, working in tandem with the Vector Store Inference Service to deliver comprehensive and accurate answers to user queries.\n",
    "\n",
    "In this Notebook, we'll guide you through the steps required to set up this LLM Inference Service. We'll discuss how to create a Docker image for the custom predictor, the role of the transformer component, define a KServe InferenceService YAML, and deploy the service.\n",
    "\n",
    "By the end of this Notebook, you'll have a fully functioning LLM Inference Service that can take user queries, interact with the Vector Store, and provide insightful responses.\n",
    "\n",
    "Let's dive in! Let's import the libraries you'll need:"
   ]
  },
  {
   "cell_type": "code",
   "execution_count": null,
   "id": "e22867e3-a69c-488a-819e-cced462be9e3",
   "metadata": {
    "tags": []
   },
   "outputs": [],
   "source": [
    "import os\n",
    "import base64\n",
    "import logging\n",
    "import warnings\n",
    "import subprocess\n",
    "\n",
    "import mlflow\n",
    "import requests\n",
    "import boto3\n",
    "import s3transfer\n",
    "import ipywidgets as widgets\n",
    "\n",
    "warnings.filterwarnings('ignore')"
   ]
  },
  {
   "cell_type": "code",
   "execution_count": null,
   "id": "b2c72b99-3585-49e9-993a-81764e7773a8",
   "metadata": {
    "tags": []
   },
   "outputs": [],
   "source": [
    "# Get all loggers\n",
    "loggers = logging.Logger.manager.loggerDict.values()\n",
    "\n",
    "# Iterate over all loggers and set their level to ERROR\n",
    "# as we don't want to polute the output of the code cells\n",
    "# with debugging messages.\n",
    "for logger in loggers:\n",
    "    if isinstance(logger, logging.Logger):\n",
    "        logger.setLevel(logging.ERROR)"
   ]
  },
  {
   "cell_type": "code",
   "execution_count": null,
   "id": "7656fd38-0660-402b-bd83-72e566cd4e0f",
   "metadata": {
    "tags": []
   },
   "outputs": [],
   "source": [
    "import base64\n",
    "\n",
    "def encode_base64(message: str):\n",
    "    encoded_bytes = base64.b64encode(message.encode('ASCII'))\n",
    "    return encoded_bytes.decode('ASCII')"
   ]
  },
  {
   "cell_type": "markdown",
   "id": "83e0cc08-1c00-49cc-85bd-b792383b26e7",
   "metadata": {
    "tags": []
   },
   "source": [
    "# Architecture\n",
    "\n",
    "In this setup, an additional component, called a \"transformer\", plays a pivotal role in processing user queries and integrating the Vector Store Inference Service with the LLM Inference Service. The transformer's role is to intercept the user's request, extract the necessary information, and then communicate with the Vector Store Inference Service to retrieve the relevant context. The transformer then takes this context, combines it with the user's query, and forwards the enriched prompt to the LLM predictor.\n",
    "\n",
    "Here's a detailed look at the process:\n",
    "\n",
    "1. Intercepting the User's Request: The transformer acts as a gateway between the user and the LLM inference service. When a user sends a query, it first reaches the transformer. The transformer extracts the query from the request.\n",
    "1. Communicating with the Vector Store Inference Service: The transformer then takes the user's query and sends a POST request to the Vector Store Inference Service including the user's query in the payload, just like you did in the previous Notebook.\n",
    "1. Receiving and Processing the Context: The Vector Store Inference Service responds by sending back the relevant context.\n",
    "1. Combining the Context with the User's Query: The transformer then combines the received context with the user's original query using a prompt template. This creates an enriched prompt that contains both the user's original question and the relevant context from our documents.\n",
    "1. Forwarding the Enriched Query to the LLM Predictor: Finally, the transformer forwards this enriched query to the LLM predictor. The predictor then processes this query and generates a response, which is sent back to the user.\n",
    "\n",
    "As such, you should build two custom Docker images at this point: one for the predictor and one for the transformer. The source code and the Dockerfiles are provided in the corresponding folders: `llm` and `transformer`. For your convenience you can use the images we have pre-built for you:\n",
    "\n",
    "- Predictor: `gcr.io/mapr-252711/ezua-demos/llm-predictor:1.0`\n",
    "- Transformer: `gcr.io/mapr-252711/ezua-demos/llm-transformer:1.0`\n",
    "\n",
    "Once ready, proceed with the next steps.\n",
    "\n",
    "# Creating the Inference Service\n",
    "\n",
    "As before, you'll need to provide a few variables:\n",
    "\n",
    "1. The domain of your EzAF cluster (e.g., hpe-ezaf)\n",
    "2. Your username and password so you can create the secret your inference service will need to connect to the Vector Store.\n",
    "3. The custom predictor Docker image you built.\n",
    "4. The customr transfromer image you built."
   ]
  },
  {
   "cell_type": "code",
   "execution_count": 1,
   "id": "858c0432-b322-474b-8c34-4244b8e48181",
   "metadata": {
    "tags": []
   },
   "outputs": [
    {
     "ename": "NameError",
     "evalue": "name 'widgets' is not defined",
     "output_type": "error",
     "traceback": [
      "\u001b[0;31m---------------------------------------------------------------------------\u001b[0m",
      "\u001b[0;31mNameError\u001b[0m                                 Traceback (most recent call last)",
      "Cell \u001b[0;32mIn[1], line 2\u001b[0m\n\u001b[1;32m      1\u001b[0m \u001b[38;5;66;03m# Add heading\u001b[39;00m\n\u001b[0;32m----> 2\u001b[0m heading \u001b[38;5;241m=\u001b[39m \u001b[43mwidgets\u001b[49m\u001b[38;5;241m.\u001b[39mHTML(\u001b[38;5;124m\"\u001b[39m\u001b[38;5;124m<h2>MLflow Credentials</h2>\u001b[39m\u001b[38;5;124m\"\u001b[39m)\n\u001b[1;32m      3\u001b[0m display(heading)\n\u001b[1;32m      5\u001b[0m ezaf_env_input \u001b[38;5;241m=\u001b[39m widgets\u001b[38;5;241m.\u001b[39mText(description\u001b[38;5;241m=\u001b[39m\u001b[38;5;124m'\u001b[39m\u001b[38;5;124mEZAF Env:\u001b[39m\u001b[38;5;124m'\u001b[39m)\n",
      "\u001b[0;31mNameError\u001b[0m: name 'widgets' is not defined"
     ]
    }
   ],
   "source": [
    "# Add heading\n",
    "heading = widgets.HTML(\"<h2>MLflow Credentials</h2>\")\n",
    "display(heading)\n",
    "\n",
    "ezaf_env_input = widgets.Text(description='EZAF Env:')\n",
    "username_input = widgets.Text(description='Username:')\n",
    "password_input = widgets.Password(description='Password:')\n",
    "predictor_input = widgets.Text(description='Predictor image:')\n",
    "transformer_input = widgets.Text(description='Transformer image:')\n",
    "submit_button = widgets.Button(description='Submit')\n",
    "success_message = widgets.Output()\n",
    "\n",
    "ezaf_env = None\n",
    "username = None\n",
    "password = None\n",
    "predictor = None\n",
    "transformer = None\n",
    "\n",
    "def submit_button_clicked(b):\n",
    "    global ezaf_env, username, password, predictor, transformer\n",
    "    ezaf_env = ezaf_env_input.value\n",
    "    username = username_input.value\n",
    "    password = password_input.value\n",
    "    predictor = predictor_input.value\n",
    "    transformer = transformer_input.value\n",
    "    with success_message:\n",
    "        success_message.clear_output()\n",
    "        print(\"Credentials submitted successfully!\")\n",
    "    submit_button.disabled = True\n",
    "\n",
    "submit_button.on_click(submit_button_clicked)\n",
    "\n",
    "# Set margin on the submit button\n",
    "submit_button.layout.margin = '20px 0 20px 0'\n",
    "\n",
    "# Display inputs and button\n",
    "display(ezaf_env_input, username_input, password_input, predictor_input, transformer_input, submit_button, success_message)"
   ]
  },
  {
   "cell_type": "code",
   "execution_count": null,
   "id": "e05d4c9d-72e4-491a-ad99-f6f533f0ef94",
   "metadata": {
    "tags": []
   },
   "outputs": [],
   "source": [
    "isvc = \"\"\"\n",
    "apiVersion: v1\n",
    "kind: Secret\n",
    "metadata:\n",
    "  name: keycloak-secret\n",
    "type: Opaque\n",
    "data:\n",
    "  EZAF_ENV: {0}\n",
    "  USERNAME: {1}\n",
    "  PASSWORD: {2}\n",
    "\n",
    "---\n",
    "apiVersion: serving.kserve.io/v1beta1\n",
    "kind: InferenceService\n",
    "metadata:\n",
    "  name: llm\n",
    "spec:\n",
    "  predictor:\n",
    "    timeout: 600\n",
    "    containers:\n",
    "    - name: kserve-container\n",
    "      image: {3}\n",
    "      imagePullPolicy: Always\n",
    "      resources:\n",
    "        requests:\n",
    "          memory: \"8Gi\"\n",
    "          cpu: \"1000m\"\n",
    "        limits:\n",
    "          memory: \"8Gi\"\n",
    "          cpu: \"2000m\"\n",
    "  transformer:\n",
    "    timeout: 600\n",
    "    containers:\n",
    "      - image: {4}\n",
    "        name: kserve-container\n",
    "        args: [\"--use_ssl\"]\n",
    "        env:\n",
    "          - name: EZAF_ENV\n",
    "            valueFrom:\n",
    "              secretKeyRef:\n",
    "                key: EZAF_ENV\n",
    "                name: keycloak-secret\n",
    "          - name: USERNAME\n",
    "            valueFrom:\n",
    "              secretKeyRef:\n",
    "                key: USERNAME\n",
    "                name: keycloak-secret \n",
    "          - name: PASSWORD\n",
    "            valueFrom:\n",
    "              secretKeyRef:\n",
    "                key: PASSWORD\n",
    "                name: keycloak-secret\n",
    "\"\"\".format(encode_base64(ezaf_env),\n",
    "           encode_base64(username),\n",
    "           encode_base64(password),\n",
    "           predictor,\n",
    "           transformer)\n",
    "\n",
    "with open(\"llm/isvc.yaml\", \"w\") as f:\n",
    "    f.write(isvc)"
   ]
  },
  {
   "cell_type": "code",
   "execution_count": null,
   "id": "68631d06-ea76-4159-a08b-57e76850ff56",
   "metadata": {
    "tags": []
   },
   "outputs": [],
   "source": [
    "subprocess.run([\"kubectl\", \"apply\", \"-f\", \"llm/isvc.yaml\"])"
   ]
  },
  {
   "cell_type": "markdown",
   "id": "20235af7-7b47-4b68-8f6d-f0b01b0c23e5",
   "metadata": {
    "tags": []
   },
   "source": [
    "# Conclusion and Next Steps\n",
    "\n",
    "Congratulations on completing this crucial step in this tutorial series! You've successfully built a Large Language Model (LLM) Inference Service, and you've learned about the role of a transformer in enriching user queries with relevant context from our documents. Together with the Vector Store Inference Service, these components form the backbone of our question-answering application.\n",
    "\n",
    "However, the journey doesn't stop here. The next and final step is to test our LLM Inference Service, ensuring that it's working as expected and delivering accurate responses. This will help us gain confidence in our setup and prepare us for real-world applications.\n",
    "\n",
    "In the next Notebook, we will guide you through the process of invoking the LLM Inference Service. We will show you how to construct suitable requests, communicate with the service, and interpret the responses."
   ]
  }
 ],
 "metadata": {
  "kernelspec": {
   "display_name": "Python [conda env:.conda-question-answering]",
   "language": "python",
   "name": "conda-env-.conda-question-answering-py"
  },
  "language_info": {
   "codemirror_mode": {
    "name": "ipython",
    "version": 3
   },
   "file_extension": ".py",
   "mimetype": "text/x-python",
   "name": "python",
   "nbconvert_exporter": "python",
   "pygments_lexer": "ipython3",
   "version": "3.9.0"
  }
 },
 "nbformat": 4,
 "nbformat_minor": 5
}
